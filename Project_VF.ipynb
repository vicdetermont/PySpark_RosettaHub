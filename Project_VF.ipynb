{
 "cells": [
  {
   "cell_type": "markdown",
   "metadata": {
    "ExecuteTime": {
     "end_time": "2020-03-03T20:24:29.589519Z",
     "start_time": "2020-03-03T20:24:29.580899Z"
    }
   },
   "source": [
    "<b><font size =20> Finding connected components in graph </font>"
   ]
  },
  {
   "cell_type": "markdown",
   "metadata": {},
   "source": [
    "<b><font> Victoire de Termont, Sarah Jallot, Naomi Serfaty \n",
    "</font>"
   ]
  },
  {
   "cell_type": "markdown",
   "metadata": {},
   "source": [
    "# 1. Open a Spark session and import packages"
   ]
  },
  {
   "cell_type": "code",
   "execution_count": 1,
   "metadata": {
    "ExecuteTime": {
     "end_time": "2020-03-04T18:06:09.310605Z",
     "start_time": "2020-03-04T18:06:07.364394Z"
    },
    "code_folding": []
   },
   "outputs": [],
   "source": [
    "# Regular packages\n",
    "import pandas as pd\n",
    "import matplotlib.pyplot as plt\n",
    "import time\n",
    "import warnings\n",
    "warnings.filterwarnings(\"ignore\") # might not be the best idea"
   ]
  },
  {
   "cell_type": "code",
   "execution_count": 2,
   "metadata": {
    "ExecuteTime": {
     "end_time": "2020-03-04T18:06:09.510331Z",
     "start_time": "2020-03-04T18:06:09.312818Z"
    },
    "code_folding": []
   },
   "outputs": [],
   "source": [
    "# pyspark packages \n",
    "from pyspark.sql.functions import col, concat, collect_list,struct\n",
    "from pyspark.sql import SparkSession\n",
    "import pyspark.sql.functions as f\n",
    "from pyspark.sql.functions import udf, array, array_distinct, array_min,array_max,array_union, explode\n",
    "from pyspark.sql.types import IntegerType, DoubleType, ArrayType\n",
    "\n",
    "from pyspark import SparkContext\n",
    "from pyspark.sql import Row"
   ]
  },
  {
   "cell_type": "code",
   "execution_count": 3,
   "metadata": {
    "ExecuteTime": {
     "end_time": "2020-03-04T18:06:15.644379Z",
     "start_time": "2020-03-04T18:06:09.554003Z"
    }
   },
   "outputs": [],
   "source": [
    "sc = SparkContext()"
   ]
  },
  {
   "cell_type": "code",
   "execution_count": 4,
   "metadata": {
    "ExecuteTime": {
     "end_time": "2020-03-04T18:06:16.987734Z",
     "start_time": "2020-03-04T18:06:15.647046Z"
    }
   },
   "outputs": [],
   "source": [
    "spark = SparkSession.builder.appName('abc').getOrCreate()"
   ]
  },
  {
   "cell_type": "markdown",
   "metadata": {},
   "source": [
    "# 2. Define functions to find connected components in graph with RDD "
   ]
  },
  {
   "cell_type": "code",
   "execution_count": 28,
   "metadata": {
    "ExecuteTime": {
     "end_time": "2020-03-04T18:10:12.622665Z",
     "start_time": "2020-03-04T18:10:12.613032Z"
    },
    "code_folding": []
   },
   "outputs": [],
   "source": [
    "def file_to_rdd(file):\n",
    "    \"\"\"\n",
    "    This function takes a file name and converts it into an RDD.\n",
    "    \n",
    "    Arguments:\n",
    "    file (str): file name\n",
    "    \n",
    "    Returns:\n",
    "    An RDD containing all information extracted from the file.\n",
    "    \"\"\"\n",
    "\n",
    "    if file[-3:] == \"csv\" : \n",
    "        data = spark.read.format(\"csv\").option(\"inferSchema\", \"true\")\\\n",
    "                                        .option(\"delimiter\", ',')\\\n",
    "                                        .option(\"header\", 'true')\\\n",
    "                                        .load(file).cache()\n",
    "\n",
    "        rdd = adj_cache.rdd.map(tuple)\n",
    "        return rdd\n",
    "    elif file[-3:] == \"txt\" : \n",
    "        rdd_web = sc.textFile(file) \\\n",
    "                    .map(lambda line: line.split('\\t')) \\\n",
    "                    .filter(lambda line: len(line)>1) \\\n",
    "                        .map(lambda line: (line[0],line[1]))\n",
    "\n",
    "        return rdd_web"
   ]
  },
  {
   "cell_type": "code",
   "execution_count": 7,
   "metadata": {
    "ExecuteTime": {
     "end_time": "2020-03-04T18:06:17.061566Z",
     "start_time": "2020-03-04T18:06:17.055342Z"
    },
    "code_folding": []
   },
   "outputs": [],
   "source": [
    "def CCF_DEDUP_rdd(rdd):\n",
    "    \"\"\"\n",
    "    This function takes an RDD and returns for each component the closest\n",
    "    connected neighbor, in one way or the other: we can have (a,b) or (b,a), or both.\n",
    "    It is inspired from the CCF_iterate and and the CCF_Dedup found \n",
    "    in the article https://www.cse.unr.edu/~hkardes/pdfs/ccf.pdf\n",
    "    \n",
    "    Arguments:\n",
    "    rdd (rdd): rdd name\n",
    "    \n",
    "    Returns:\n",
    "    An RDD containing for each component the closest connected \n",
    "    neighbor(direct relationship only),in one way or the other. \n",
    "    \"\"\"\n",
    "    \n",
    "    # Our goal is to list all existing edges in both ways: (k,v) and (v,k)\n",
    "    # Our called RDD contains all (k,v) and we want to add all (v,k)\n",
    "    \n",
    "    rdd_reverse = rdd.map(lambda x :(x[1], x[0])) # getting all (v,k)\n",
    "    rdd_0 = rdd.union(rdd_reverse) # Building a new RDD containing all (k,v) and (v,k)\n",
    "    \n",
    "    # Grouping by key on the first element (k, [v1, v2...])\n",
    "    rdd_1 = rdd_0.groupByKey().map(lambda x : (x[0], list(x[1])))\n",
    "    \n",
    "    # New k: the minimum between k and all elements included in v \n",
    "    # New v: all values from k and v\n",
    "    rdd_2 = rdd_1.map(lambda x : (min(x[0], min(x[1])),  list(set(x[1] + [x[0]]))))\n",
    "    \n",
    "    # Extracting each element of v as our key k and assigning it the corresponding minimum found above\n",
    "    rdd_3 = rdd_2.flatMapValues(lambda x : x).map(lambda x : (x[1], x[0])).distinct()\n",
    "    \n",
    "    return rdd_3"
   ]
  },
  {
   "cell_type": "code",
   "execution_count": 8,
   "metadata": {
    "ExecuteTime": {
     "end_time": "2020-03-04T18:06:17.077313Z",
     "start_time": "2020-03-04T18:06:17.066303Z"
    },
    "code_folding": []
   },
   "outputs": [],
   "source": [
    "def get_groups_rdd(rdd):\n",
    "    \"\"\"\n",
    "    This function extracts connected components from an RDD, and assigns\n",
    "    the smallest component value of each group as the group name. \n",
    "    \n",
    "    Arguments:\n",
    "    rdd (rdd): rdd name\n",
    "    \n",
    "    Returns:\n",
    "    t (float) : Computational Time\n",
    "    size (int) : Total number of distinct edges in the input graph\n",
    "    num_of_groups (int) : Number of groups of connected components\n",
    "    rdd (rdd) : An RDD containing as many tuples as the number of unique components in \n",
    "    the original RDD: the key is the component and the value is the group name.\n",
    "    \"\"\"\n",
    "    \n",
    "    #Count of edges \n",
    "    rdd_reverse = rdd.map(lambda x :(x[1], x[0])) # getting all (v,k)\n",
    "    rdd_0 = rdd.union(rdd_reverse) # Building a new RDD containing all (k,v) and (v,k)\n",
    "    size = (rdd_0.distinct()).count()/2\n",
    "    \n",
    "    # Final number of tuples must be equal to the number of distinct values in our original RDD\n",
    "    # And we can prove that they are equal only once the solution is found \n",
    "    t = time.time()\n",
    "    \n",
    "    #The counter counts the number of times the algorithm goes through the loop\n",
    "    #It will depend on the maximum distance between two components of the same group\n",
    "    counter = 0\n",
    "    while rdd.count()!= (rdd.groupBy(lambda x : x[0]).distinct()).count() :\n",
    "        counter +=1\n",
    "        rdd = CCF_DEDUP_rdd(rdd) # function explained above \n",
    "    t = time.time() - t\n",
    "       \n",
    "    #Getting the number of groups of connected components\n",
    "    num_of_groups = len(rdd.values().distinct().collect())\n",
    "    \n",
    "    return t, size, num_of_groups, counter, rdd"
   ]
  },
  {
   "cell_type": "markdown",
   "metadata": {},
   "source": [
    "# 3. Define functions to find connected components in graph with DataFrame"
   ]
  },
  {
   "cell_type": "code",
   "execution_count": 13,
   "metadata": {
    "ExecuteTime": {
     "end_time": "2020-03-04T18:07:31.886864Z",
     "start_time": "2020-03-04T18:07:31.880594Z"
    },
    "code_folding": []
   },
   "outputs": [],
   "source": [
    "def file_to_df(file):\n",
    "    \"\"\"\n",
    "    This function takes a file name and converts it into a DataFrame.\n",
    "    \n",
    "    Arguments:\n",
    "    file (str): file name\n",
    "    \n",
    "    Returns:\n",
    "    An DataFrame containing all information extracted from the file.\n",
    "    \"\"\"\n",
    "    \n",
    "    if file[-3:] == \"csv\" : \n",
    "        data = spark.read.format(\"csv\").option(\"inferSchema\", \"true\")\\\n",
    "                                        .option(\"delimiter\", ',')\\\n",
    "                                        .option(\"header\", 'true')\\\n",
    "                                        .load(file).toDF(\"To\",\"From\").cache()\n",
    "\n",
    "        return adj_cache\n",
    "    elif file[-3:] == \"txt\" : \n",
    "        df_web = sc.textFile(file) \\\n",
    "            .map(lambda line: (line.split('\\t'))).toDF()\\\n",
    "            .select(col('_1').cast(IntegerType()).alias('To'), col('_2').cast(IntegerType()).alias('From'))\n",
    "\n",
    "        #Remove header if there\n",
    "        #df_web = df_web.filter(df_web.To !='FromNodeId' )\n",
    "\n",
    "        return df_web"
   ]
  },
  {
   "cell_type": "code",
   "execution_count": 10,
   "metadata": {
    "ExecuteTime": {
     "end_time": "2020-03-04T18:06:17.104825Z",
     "start_time": "2020-03-04T18:06:17.094819Z"
    },
    "code_folding": []
   },
   "outputs": [],
   "source": [
    "# Version working locally but not on RosettaHub\n",
    "def CCF_DEDUP_df_old(df):\n",
    "    \"\"\"\n",
    "    This function takes an DataFrame and returns for each component the closest\n",
    "    connected neighbor, in one way or the other: we can have (a,b) or (b,a), or both.\n",
    "    It is inspired from the CCF_iterate and and the CCF_Dedup found \n",
    "    in the article https://www.cse.unr.edu/~hkardes/pdfs/ccf.pdf\n",
    "    \n",
    "    Arguments:\n",
    "    df (df): DataFrame name\n",
    "    \n",
    "    Returns:\n",
    "    An DataFrame containing for each component the closest connected \n",
    "    neighbor(direct relationship only),in one way or the other. \n",
    "    \"\"\"\n",
    "\n",
    "    # Our goal is to list all existing edges in both ways: (k,v) and (v,k)\n",
    "    # Our called RDD contains all (k,v) and we want to add all (v,k)\n",
    "    reverseDF = df.select(col(\"From\").alias(\"To\"),col(\"To\").alias(\"From\"))# getting all (v,k)\n",
    "    df_0 = df.union(reverseDF)# Building a new DataFrame containing all (k,v) and (v,k)\n",
    "    \n",
    "    # Grouping by key on the first element (k, [v1, v2...])\n",
    "    df_1 = df_0.groupBy(col(\"To\")).agg(f.array_distinct(collect_list(col(\"From\"))).alias('From'))\n",
    "    \n",
    "    # New k: the minimum between k and all elements included in v \n",
    "    # New v: all values from k and v\n",
    "    df_2 = df_1.withColumn('From', array_union(df_1.From, array(df_1.To))).withColumn('To', array_min(\"From\"))\n",
    "    \n",
    "    # Extracting each element of v as our key k and assigning it the corresponding minimum found above\n",
    "    df_3 = df_2.select( explode(col(\"From\")).alias(\"To\"), col(\"To\").alias(\"From\")).dropDuplicates()\n",
    "    \n",
    "    return df_3"
   ]
  },
  {
   "cell_type": "code",
   "execution_count": 11,
   "metadata": {
    "ExecuteTime": {
     "end_time": "2020-03-04T18:06:17.122846Z",
     "start_time": "2020-03-04T18:06:17.107864Z"
    },
    "code_folding": []
   },
   "outputs": [],
   "source": [
    "# Redefining functions that RosettaHub could not read\n",
    "def our_union (x):\n",
    "    x[1].append(x[0])\n",
    "    return x[1]\n",
    "\n",
    "our_union_udf = f.udf(our_union, ArrayType(IntegerType()))\n",
    "findmin = f.udf(lambda x: min(x), IntegerType())\n",
    "our_distinct = f.udf(lambda x: list(set(x)), ArrayType(IntegerType()))\n",
    "\n",
    "# New function working on RosettaHub\n",
    "def CCF_DEDUP_df(df):\n",
    "    \"\"\"\n",
    "    This function takes an DataFrame and returns for each component the closest\n",
    "    connected neighbor, in one way or the other: we can have (a,b) or (b,a), or both.\n",
    "    It is inspired from the CCF_iterate and and the CCF_Dedup found \n",
    "    in the article https://www.cse.unr.edu/~hkardes/pdfs/ccf.pdf\n",
    "    \n",
    "    Arguments:\n",
    "    df (df): DataFrame name\n",
    "    \n",
    "    Returns:\n",
    "    An DataFrame containing for each component the closest connected \n",
    "    neighbor(direct relationship only),in one way or the other. \n",
    "    \"\"\"\n",
    "\n",
    "    # Our goal is to list all existing edges in both ways: (k,v) and (v,k)\n",
    "    # Our called RDD contains all (k,v) and we want to add all (v,k)\n",
    "    reverseDF = df.select(col(\"From\").alias(\"To\"),col(\"To\").alias(\"From\"))# getting all (v,k)\n",
    "    df_0 = df.union(reverseDF)# Building a new DataFrame containing all (k,v) and (v,k)\n",
    "    \n",
    "    # Grouping by key on the first element (k, [v1, v2...])\n",
    "    df_1 = df_0.groupBy(col(\"To\")).agg(our_distinct(collect_list(col(\"From\"))).alias('From'))\n",
    "    \n",
    "    # New k: the minimum between k and all elements included in v \n",
    "    # New v: all values from k and v\n",
    "    #df_2 = df_1.withColumn('From', array_union(df_1.From, array(df_1.To))).withColumn('To', findmin(\"From\"))\n",
    "    df_2 = df_1.withColumn('From', our_union_udf(struct(df_1.To, df_1.From)))\\\n",
    "                    .withColumn('To', findmin(\"From\"))\\\n",
    "                        .withColumn('From', our_distinct('From'))\n",
    "    \n",
    "    # Extracting each element of v as our key k and assigning it the corresponding minimum found above\n",
    "    df_3 = df_2.select( explode(col(\"From\")).alias(\"To\"), col(\"To\").alias(\"From\")).dropDuplicates()\n",
    "    \n",
    "    return df_3"
   ]
  },
  {
   "cell_type": "code",
   "execution_count": 12,
   "metadata": {
    "ExecuteTime": {
     "end_time": "2020-03-04T18:06:17.139337Z",
     "start_time": "2020-03-04T18:06:17.125083Z"
    },
    "code_folding": []
   },
   "outputs": [],
   "source": [
    "def get_groups_df(df):\n",
    "    \"\"\"\n",
    "    This function extracts connected components from a DataFrame, and assigns\n",
    "    the smallest component value of each group as the group name. \n",
    "    \n",
    "    Arguments:\n",
    "    df (df): DataFrame name\n",
    "    \n",
    "    Returns:\n",
    "    t (float) : Computational Time\n",
    "    size (int) : Total number of distinct edges in the input graph\n",
    "    num_of_groups (int) : Number of groups of connected components\n",
    "    df (DataFrame) : An DataFrame containing as many tuples as the number of unique components in \n",
    "    the original DataFrame: the key is the component and the value is the group name.\n",
    "    \"\"\"\n",
    "    \n",
    "    #Count of edges \n",
    "    reverseDF = df.select(col(\"From\").alias(\"To\"),col(\"To\").alias(\"From\")) # getting all (v,k)\n",
    "    df_0 = df.union(reverseDF)# Building a new DataFrame containing all (k,v) and (v,k)\n",
    "    size = df_0.distinct().count()/2\n",
    "    \n",
    "    # Final number of tuples must be equal to the number of distinct values in our original RDD\n",
    "    # And we can prove that they are equal only once the solution is found \n",
    "    t = time.time()\n",
    "    \n",
    "    #Counter measures the max distance between two neighboors of the group \n",
    "    counter = 0 \n",
    "    while df.count()!= df.select('To').distinct().count() :\n",
    "        counter +=1 \n",
    "        df = CCF_DEDUP_df(df) # function explained above \n",
    "    t = time.time() - t\n",
    "    \n",
    "    #Getting the number of groups of connected components\n",
    "    num_of_groups = len(df.select('From').distinct().collect())\n",
    "    \n",
    "    return t, size,num_of_groups, counter,  df"
   ]
  },
  {
   "cell_type": "markdown",
   "metadata": {},
   "source": [
    "# 4. Graph of Size VS Speed"
   ]
  },
  {
   "cell_type": "markdown",
   "metadata": {},
   "source": [
    "### Our Graphs"
   ]
  },
  {
   "cell_type": "markdown",
   "metadata": {
    "ExecuteTime": {
     "end_time": "2020-03-01T19:45:28.222073Z",
     "start_time": "2020-03-01T19:45:28.218667Z"
    }
   },
   "source": [
    "##### RDD : Our graphs"
   ]
  },
  {
   "cell_type": "code",
   "execution_count": 243,
   "metadata": {
    "ExecuteTime": {
     "end_time": "2020-03-03T19:45:54.556320Z",
     "start_time": "2020-03-03T19:45:48.069748Z"
    }
   },
   "outputs": [
    {
     "data": {
      "text/html": [
       "<div>\n",
       "<style scoped>\n",
       "    .dataframe tbody tr th:only-of-type {\n",
       "        vertical-align: middle;\n",
       "    }\n",
       "\n",
       "    .dataframe tbody tr th {\n",
       "        vertical-align: top;\n",
       "    }\n",
       "\n",
       "    .dataframe thead th {\n",
       "        text-align: right;\n",
       "    }\n",
       "</style>\n",
       "<table border=\"1\" class=\"dataframe\">\n",
       "  <thead>\n",
       "    <tr style=\"text-align: right;\">\n",
       "      <th></th>\n",
       "      <th>File/web_w.csv</th>\n",
       "      <th>File/web_OK.csv</th>\n",
       "      <th>File/web_NotOk.csv</th>\n",
       "      <th>File/web-Google_short.txt</th>\n",
       "    </tr>\n",
       "  </thead>\n",
       "  <tbody>\n",
       "    <tr>\n",
       "      <td>Num of Edges</td>\n",
       "      <td>3.000</td>\n",
       "      <td>8.000</td>\n",
       "      <td>23.000</td>\n",
       "      <td>41.00</td>\n",
       "    </tr>\n",
       "    <tr>\n",
       "      <td>Num of Groups</td>\n",
       "      <td>1.000</td>\n",
       "      <td>2.000</td>\n",
       "      <td>3.000</td>\n",
       "      <td>1.00</td>\n",
       "    </tr>\n",
       "    <tr>\n",
       "      <td>#of indirect neighboors</td>\n",
       "      <td>3.000</td>\n",
       "      <td>2.000</td>\n",
       "      <td>5.000</td>\n",
       "      <td>2.00</td>\n",
       "    </tr>\n",
       "    <tr>\n",
       "      <td>Computational time (RDD)</td>\n",
       "      <td>0.979</td>\n",
       "      <td>0.519</td>\n",
       "      <td>2.649</td>\n",
       "      <td>0.76</td>\n",
       "    </tr>\n",
       "  </tbody>\n",
       "</table>\n",
       "</div>"
      ],
      "text/plain": [
       "                          File/web_w.csv  File/web_OK.csv  File/web_NotOk.csv  \\\n",
       "Num of Edges                       3.000            8.000              23.000   \n",
       "Num of Groups                      1.000            2.000               3.000   \n",
       "#of indirect neighboors            3.000            2.000               5.000   \n",
       "Computational time (RDD)           0.979            0.519               2.649   \n",
       "\n",
       "                          File/web-Google_short.txt  \n",
       "Num of Edges                                  41.00  \n",
       "Num of Groups                                  1.00  \n",
       "#of indirect neighboors                        2.00  \n",
       "Computational time (RDD)                       0.76  "
      ]
     },
     "execution_count": 243,
     "metadata": {},
     "output_type": "execute_result"
    }
   ],
   "source": [
    "#Create DataFrame to store size of graph, and computation time\n",
    "res_RDD = pd.DataFrame(index=[\"Num of Edges\",'Num of Groups',\"#of indirect neighboors\", \"Computational time (RDD)\"])\n",
    "\n",
    "#For each file save info to DataFrame\n",
    "for file in [\"File/web_w.csv\", \"File/web_NotOk.csv\", \"File/web_OK.csv\", \"File/web-Google_short.txt\"]:\n",
    "    rdd = file_to_rdd(file)\n",
    "    t, size, num_of_groups, counter, rdd = get_groups_rdd(rdd)\n",
    "    res_RDD.loc[:, file] = (round(size), round(num_of_groups), counter, round(t,3))\n",
    "res_RDD = res_RDD.sort_values('Num of Edges',axis=1)\n",
    "res_RDD"
   ]
  },
  {
   "cell_type": "code",
   "execution_count": 244,
   "metadata": {
    "ExecuteTime": {
     "end_time": "2020-03-03T19:45:54.566135Z",
     "start_time": "2020-03-03T19:45:54.559476Z"
    }
   },
   "outputs": [],
   "source": [
    "res_RDD.columns=['Graph_1', \"Graph_2\", 'Graph_3', 'Graph_4']"
   ]
  },
  {
   "cell_type": "code",
   "execution_count": 245,
   "metadata": {
    "ExecuteTime": {
     "end_time": "2020-03-03T19:45:54.580046Z",
     "start_time": "2020-03-03T19:45:54.569868Z"
    }
   },
   "outputs": [
    {
     "data": {
      "text/html": [
       "<div>\n",
       "<style scoped>\n",
       "    .dataframe tbody tr th:only-of-type {\n",
       "        vertical-align: middle;\n",
       "    }\n",
       "\n",
       "    .dataframe tbody tr th {\n",
       "        vertical-align: top;\n",
       "    }\n",
       "\n",
       "    .dataframe thead th {\n",
       "        text-align: right;\n",
       "    }\n",
       "</style>\n",
       "<table border=\"1\" class=\"dataframe\">\n",
       "  <thead>\n",
       "    <tr style=\"text-align: right;\">\n",
       "      <th></th>\n",
       "      <th>Graph_1</th>\n",
       "      <th>Graph_2</th>\n",
       "      <th>Graph_3</th>\n",
       "      <th>Graph_4</th>\n",
       "    </tr>\n",
       "  </thead>\n",
       "  <tbody>\n",
       "    <tr>\n",
       "      <td>Num of Edges</td>\n",
       "      <td>3.000</td>\n",
       "      <td>8.000</td>\n",
       "      <td>23.000</td>\n",
       "      <td>41.00</td>\n",
       "    </tr>\n",
       "    <tr>\n",
       "      <td>Num of Groups</td>\n",
       "      <td>1.000</td>\n",
       "      <td>2.000</td>\n",
       "      <td>3.000</td>\n",
       "      <td>1.00</td>\n",
       "    </tr>\n",
       "    <tr>\n",
       "      <td>#of indirect neighboors</td>\n",
       "      <td>3.000</td>\n",
       "      <td>2.000</td>\n",
       "      <td>5.000</td>\n",
       "      <td>2.00</td>\n",
       "    </tr>\n",
       "    <tr>\n",
       "      <td>Computational time (RDD)</td>\n",
       "      <td>0.979</td>\n",
       "      <td>0.519</td>\n",
       "      <td>2.649</td>\n",
       "      <td>0.76</td>\n",
       "    </tr>\n",
       "  </tbody>\n",
       "</table>\n",
       "</div>"
      ],
      "text/plain": [
       "                          Graph_1  Graph_2  Graph_3  Graph_4\n",
       "Num of Edges                3.000    8.000   23.000    41.00\n",
       "Num of Groups               1.000    2.000    3.000     1.00\n",
       "#of indirect neighboors     3.000    2.000    5.000     2.00\n",
       "Computational time (RDD)    0.979    0.519    2.649     0.76"
      ]
     },
     "execution_count": 245,
     "metadata": {},
     "output_type": "execute_result"
    }
   ],
   "source": [
    "res_RDD"
   ]
  },
  {
   "cell_type": "markdown",
   "metadata": {},
   "source": [
    "##### Dataframe : Our Graphs\n"
   ]
  },
  {
   "cell_type": "code",
   "execution_count": 235,
   "metadata": {
    "ExecuteTime": {
     "end_time": "2020-03-03T19:44:02.917105Z",
     "start_time": "2020-03-03T19:42:59.320250Z"
    },
    "scrolled": true
   },
   "outputs": [
    {
     "data": {
      "text/html": [
       "<div>\n",
       "<style scoped>\n",
       "    .dataframe tbody tr th:only-of-type {\n",
       "        vertical-align: middle;\n",
       "    }\n",
       "\n",
       "    .dataframe tbody tr th {\n",
       "        vertical-align: top;\n",
       "    }\n",
       "\n",
       "    .dataframe thead th {\n",
       "        text-align: right;\n",
       "    }\n",
       "</style>\n",
       "<table border=\"1\" class=\"dataframe\">\n",
       "  <thead>\n",
       "    <tr style=\"text-align: right;\">\n",
       "      <th></th>\n",
       "      <th>File/web_w.csv</th>\n",
       "      <th>File/web_OK.csv</th>\n",
       "      <th>File/web_NotOk.csv</th>\n",
       "      <th>File/web-Google_short.txt</th>\n",
       "    </tr>\n",
       "  </thead>\n",
       "  <tbody>\n",
       "    <tr>\n",
       "      <td>Num of Edges</td>\n",
       "      <td>3.000</td>\n",
       "      <td>8.000</td>\n",
       "      <td>23.000</td>\n",
       "      <td>44.000</td>\n",
       "    </tr>\n",
       "    <tr>\n",
       "      <td>Num of Groups</td>\n",
       "      <td>1.000</td>\n",
       "      <td>2.000</td>\n",
       "      <td>3.000</td>\n",
       "      <td>1.000</td>\n",
       "    </tr>\n",
       "    <tr>\n",
       "      <td>#of indirect neighboors (DF)</td>\n",
       "      <td>3.000</td>\n",
       "      <td>2.000</td>\n",
       "      <td>5.000</td>\n",
       "      <td>2.000</td>\n",
       "    </tr>\n",
       "    <tr>\n",
       "      <td>Computational time (DF)</td>\n",
       "      <td>13.684</td>\n",
       "      <td>7.404</td>\n",
       "      <td>24.715</td>\n",
       "      <td>10.718</td>\n",
       "    </tr>\n",
       "  </tbody>\n",
       "</table>\n",
       "</div>"
      ],
      "text/plain": [
       "                              File/web_w.csv  File/web_OK.csv  \\\n",
       "Num of Edges                           3.000            8.000   \n",
       "Num of Groups                          1.000            2.000   \n",
       "#of indirect neighboors (DF)           3.000            2.000   \n",
       "Computational time (DF)               13.684            7.404   \n",
       "\n",
       "                              File/web_NotOk.csv  File/web-Google_short.txt  \n",
       "Num of Edges                              23.000                     44.000  \n",
       "Num of Groups                              3.000                      1.000  \n",
       "#of indirect neighboors (DF)               5.000                      2.000  \n",
       "Computational time (DF)                   24.715                     10.718  "
      ]
     },
     "execution_count": 235,
     "metadata": {},
     "output_type": "execute_result"
    }
   ],
   "source": [
    "#Create DataFrame to store size of graph, and computation time\n",
    "res_DF = pd.DataFrame(index=[\"Num of Edges\",'Num of Groups', \"#of indirect neighboors\",\"Computational time (DF)\"])\n",
    "\n",
    "#For each file save info to DataFrame\n",
    "for file in [\"File/web_w.csv\", \"File/web_NotOk.csv\", \"File/web_OK.csv\", \"File/web-Google_short.txt\"]:\n",
    "    df = file_to_df(file)\n",
    "    t, size, num_of_groups,counter,  df = get_groups_df(df)\n",
    "    res_DF.loc[:, file] = (round(size), round(num_of_groups),counter,  round(t,3))\n",
    "res_DF = res_DF.sort_values('Num of Edges',axis=1)\n",
    "res_DF"
   ]
  },
  {
   "cell_type": "code",
   "execution_count": 236,
   "metadata": {
    "ExecuteTime": {
     "end_time": "2020-03-03T19:44:35.111821Z",
     "start_time": "2020-03-03T19:44:35.108712Z"
    }
   },
   "outputs": [],
   "source": [
    "res_DF.columns=['Graph_1', \"Graph_2\", 'Graph_3', 'Graph_4']"
   ]
  },
  {
   "cell_type": "code",
   "execution_count": 237,
   "metadata": {
    "ExecuteTime": {
     "end_time": "2020-03-03T19:44:35.632158Z",
     "start_time": "2020-03-03T19:44:35.620720Z"
    }
   },
   "outputs": [
    {
     "data": {
      "text/html": [
       "<div>\n",
       "<style scoped>\n",
       "    .dataframe tbody tr th:only-of-type {\n",
       "        vertical-align: middle;\n",
       "    }\n",
       "\n",
       "    .dataframe tbody tr th {\n",
       "        vertical-align: top;\n",
       "    }\n",
       "\n",
       "    .dataframe thead th {\n",
       "        text-align: right;\n",
       "    }\n",
       "</style>\n",
       "<table border=\"1\" class=\"dataframe\">\n",
       "  <thead>\n",
       "    <tr style=\"text-align: right;\">\n",
       "      <th></th>\n",
       "      <th>Graph_1</th>\n",
       "      <th>Graph_2</th>\n",
       "      <th>Graph_3</th>\n",
       "      <th>Graph_4</th>\n",
       "    </tr>\n",
       "  </thead>\n",
       "  <tbody>\n",
       "    <tr>\n",
       "      <td>Num of Edges</td>\n",
       "      <td>3.000</td>\n",
       "      <td>8.000</td>\n",
       "      <td>23.000</td>\n",
       "      <td>44.000</td>\n",
       "    </tr>\n",
       "    <tr>\n",
       "      <td>Num of Groups</td>\n",
       "      <td>1.000</td>\n",
       "      <td>2.000</td>\n",
       "      <td>3.000</td>\n",
       "      <td>1.000</td>\n",
       "    </tr>\n",
       "    <tr>\n",
       "      <td>#of indirect neighboors (DF)</td>\n",
       "      <td>3.000</td>\n",
       "      <td>2.000</td>\n",
       "      <td>5.000</td>\n",
       "      <td>2.000</td>\n",
       "    </tr>\n",
       "    <tr>\n",
       "      <td>Computational time (DF)</td>\n",
       "      <td>13.684</td>\n",
       "      <td>7.404</td>\n",
       "      <td>24.715</td>\n",
       "      <td>10.718</td>\n",
       "    </tr>\n",
       "  </tbody>\n",
       "</table>\n",
       "</div>"
      ],
      "text/plain": [
       "                              Graph_1  Graph_2  Graph_3  Graph_4\n",
       "Num of Edges                    3.000    8.000   23.000   44.000\n",
       "Num of Groups                   1.000    2.000    3.000    1.000\n",
       "#of indirect neighboors (DF)    3.000    2.000    5.000    2.000\n",
       "Computational time (DF)        13.684    7.404   24.715   10.718"
      ]
     },
     "execution_count": 237,
     "metadata": {},
     "output_type": "execute_result"
    }
   ],
   "source": [
    "res_DF"
   ]
  },
  {
   "cell_type": "markdown",
   "metadata": {},
   "source": [
    "###### Combinaison"
   ]
  },
  {
   "cell_type": "code",
   "execution_count": 246,
   "metadata": {
    "ExecuteTime": {
     "end_time": "2020-03-03T19:46:07.816714Z",
     "start_time": "2020-03-03T19:46:07.806576Z"
    }
   },
   "outputs": [],
   "source": [
    "res_RDD.loc['Computational time (DF)',:] = res_DF.loc['Computational time (DF)']"
   ]
  },
  {
   "cell_type": "code",
   "execution_count": 247,
   "metadata": {
    "ExecuteTime": {
     "end_time": "2020-03-03T19:46:08.469118Z",
     "start_time": "2020-03-03T19:46:08.457638Z"
    }
   },
   "outputs": [
    {
     "data": {
      "text/html": [
       "<div>\n",
       "<style scoped>\n",
       "    .dataframe tbody tr th:only-of-type {\n",
       "        vertical-align: middle;\n",
       "    }\n",
       "\n",
       "    .dataframe tbody tr th {\n",
       "        vertical-align: top;\n",
       "    }\n",
       "\n",
       "    .dataframe thead th {\n",
       "        text-align: right;\n",
       "    }\n",
       "</style>\n",
       "<table border=\"1\" class=\"dataframe\">\n",
       "  <thead>\n",
       "    <tr style=\"text-align: right;\">\n",
       "      <th></th>\n",
       "      <th>Graph_1</th>\n",
       "      <th>Graph_2</th>\n",
       "      <th>Graph_3</th>\n",
       "      <th>Graph_4</th>\n",
       "    </tr>\n",
       "  </thead>\n",
       "  <tbody>\n",
       "    <tr>\n",
       "      <td>Num of Edges</td>\n",
       "      <td>3.000</td>\n",
       "      <td>8.000</td>\n",
       "      <td>23.000</td>\n",
       "      <td>41.000</td>\n",
       "    </tr>\n",
       "    <tr>\n",
       "      <td>Num of Groups</td>\n",
       "      <td>1.000</td>\n",
       "      <td>2.000</td>\n",
       "      <td>3.000</td>\n",
       "      <td>1.000</td>\n",
       "    </tr>\n",
       "    <tr>\n",
       "      <td>#of indirect neighboors</td>\n",
       "      <td>3.000</td>\n",
       "      <td>2.000</td>\n",
       "      <td>5.000</td>\n",
       "      <td>2.000</td>\n",
       "    </tr>\n",
       "    <tr>\n",
       "      <td>Computational time (RDD)</td>\n",
       "      <td>0.979</td>\n",
       "      <td>0.519</td>\n",
       "      <td>2.649</td>\n",
       "      <td>0.760</td>\n",
       "    </tr>\n",
       "    <tr>\n",
       "      <td>Computational time (DF)</td>\n",
       "      <td>13.684</td>\n",
       "      <td>7.404</td>\n",
       "      <td>24.715</td>\n",
       "      <td>10.718</td>\n",
       "    </tr>\n",
       "  </tbody>\n",
       "</table>\n",
       "</div>"
      ],
      "text/plain": [
       "                          Graph_1  Graph_2  Graph_3  Graph_4\n",
       "Num of Edges                3.000    8.000   23.000   41.000\n",
       "Num of Groups               1.000    2.000    3.000    1.000\n",
       "#of indirect neighboors     3.000    2.000    5.000    2.000\n",
       "Computational time (RDD)    0.979    0.519    2.649    0.760\n",
       "Computational time (DF)    13.684    7.404   24.715   10.718"
      ]
     },
     "execution_count": 247,
     "metadata": {},
     "output_type": "execute_result"
    }
   ],
   "source": [
    "res_RDD"
   ]
  },
  {
   "cell_type": "markdown",
   "metadata": {},
   "source": [
    "### Google Graphs"
   ]
  },
  {
   "cell_type": "markdown",
   "metadata": {},
   "source": [
    "###### RDD : Google Graph"
   ]
  },
  {
   "cell_type": "code",
   "execution_count": 207,
   "metadata": {
    "ExecuteTime": {
     "end_time": "2020-03-03T16:41:20.341975Z",
     "start_time": "2020-03-03T16:41:20.337549Z"
    }
   },
   "outputs": [],
   "source": [
    "res_RDD_Google = pd.DataFrame(index=[\"Num of Edges\",'Num of Groups (RDD)',\"Computational time (RDD)\"])"
   ]
  },
  {
   "cell_type": "code",
   "execution_count": 208,
   "metadata": {
    "ExecuteTime": {
     "end_time": "2020-03-03T16:41:20.851232Z",
     "start_time": "2020-03-03T16:41:20.825824Z"
    }
   },
   "outputs": [],
   "source": [
    "res_RDD_Google.loc[:,\"web-Google_FULL\"] = (4322051,2746, round(1255.32816601))\n",
    "res_RDD_Google.loc[:,\"web-Google_DEMI\"] = (2039129,4135, round(614.631679843))\n",
    "res_RDD_Google.loc[:,\"web-Google_QUART\"] = (1014822,2743, round(386.780790091))"
   ]
  },
  {
   "cell_type": "code",
   "execution_count": 209,
   "metadata": {
    "ExecuteTime": {
     "end_time": "2020-03-03T16:41:21.239337Z",
     "start_time": "2020-03-03T16:41:21.230664Z"
    }
   },
   "outputs": [
    {
     "data": {
      "text/html": [
       "<div>\n",
       "<style scoped>\n",
       "    .dataframe tbody tr th:only-of-type {\n",
       "        vertical-align: middle;\n",
       "    }\n",
       "\n",
       "    .dataframe tbody tr th {\n",
       "        vertical-align: top;\n",
       "    }\n",
       "\n",
       "    .dataframe thead th {\n",
       "        text-align: right;\n",
       "    }\n",
       "</style>\n",
       "<table border=\"1\" class=\"dataframe\">\n",
       "  <thead>\n",
       "    <tr style=\"text-align: right;\">\n",
       "      <th></th>\n",
       "      <th>web-Google_FULL</th>\n",
       "      <th>web-Google_DEMI</th>\n",
       "      <th>web-Google_QUART</th>\n",
       "    </tr>\n",
       "  </thead>\n",
       "  <tbody>\n",
       "    <tr>\n",
       "      <td>Num of Edges</td>\n",
       "      <td>4322051</td>\n",
       "      <td>2039129</td>\n",
       "      <td>1014822</td>\n",
       "    </tr>\n",
       "    <tr>\n",
       "      <td>Num of Groups (RDD)</td>\n",
       "      <td>2746</td>\n",
       "      <td>4135</td>\n",
       "      <td>2743</td>\n",
       "    </tr>\n",
       "    <tr>\n",
       "      <td>Computational time (RDD)</td>\n",
       "      <td>1255</td>\n",
       "      <td>615</td>\n",
       "      <td>387</td>\n",
       "    </tr>\n",
       "  </tbody>\n",
       "</table>\n",
       "</div>"
      ],
      "text/plain": [
       "                          web-Google_FULL  web-Google_DEMI  web-Google_QUART\n",
       "Num of Edges                      4322051          2039129           1014822\n",
       "Num of Groups (RDD)                  2746             4135              2743\n",
       "Computational time (RDD)             1255              615               387"
      ]
     },
     "execution_count": 209,
     "metadata": {},
     "output_type": "execute_result"
    }
   ],
   "source": [
    "res_RDD_Google"
   ]
  },
  {
   "cell_type": "markdown",
   "metadata": {
    "ExecuteTime": {
     "end_time": "2020-03-03T14:37:31.256507Z",
     "start_time": "2020-03-03T14:37:31.252653Z"
    }
   },
   "source": [
    "###### DataFrame : Google Graph"
   ]
  },
  {
   "cell_type": "code",
   "execution_count": 215,
   "metadata": {
    "ExecuteTime": {
     "end_time": "2020-03-03T16:53:18.955895Z",
     "start_time": "2020-03-03T16:53:18.938077Z"
    }
   },
   "outputs": [],
   "source": [
    "res_DF_Google = pd.DataFrame(index=[\"Num of Edges\",'Num of Groups (DF)',\"Computational time (DF)\"])"
   ]
  },
  {
   "cell_type": "code",
   "execution_count": 216,
   "metadata": {
    "ExecuteTime": {
     "end_time": "2020-03-03T16:53:19.194332Z",
     "start_time": "2020-03-03T16:53:19.184113Z"
    }
   },
   "outputs": [],
   "source": [
    "res_DF_Google.loc[:,\"web-Google_FULL\"] = (4322051, 2746, round(1745.23199582))\n",
    "res_DF_Google.loc[:,\"web-Google_DEMI\"] = (2039129, 4135, round(886.50760576))\n",
    "res_DF_Google.loc[:,\"web-Google_QUART\"] = (1014822, 2743, round(573.251643896))"
   ]
  },
  {
   "cell_type": "code",
   "execution_count": 217,
   "metadata": {
    "ExecuteTime": {
     "end_time": "2020-03-03T16:53:19.396024Z",
     "start_time": "2020-03-03T16:53:19.389360Z"
    }
   },
   "outputs": [
    {
     "data": {
      "text/html": [
       "<div>\n",
       "<style scoped>\n",
       "    .dataframe tbody tr th:only-of-type {\n",
       "        vertical-align: middle;\n",
       "    }\n",
       "\n",
       "    .dataframe tbody tr th {\n",
       "        vertical-align: top;\n",
       "    }\n",
       "\n",
       "    .dataframe thead th {\n",
       "        text-align: right;\n",
       "    }\n",
       "</style>\n",
       "<table border=\"1\" class=\"dataframe\">\n",
       "  <thead>\n",
       "    <tr style=\"text-align: right;\">\n",
       "      <th></th>\n",
       "      <th>web-Google_FULL</th>\n",
       "      <th>web-Google_DEMI</th>\n",
       "      <th>web-Google_QUART</th>\n",
       "    </tr>\n",
       "  </thead>\n",
       "  <tbody>\n",
       "    <tr>\n",
       "      <td>Num of Edges</td>\n",
       "      <td>4322051</td>\n",
       "      <td>2039129</td>\n",
       "      <td>1014822</td>\n",
       "    </tr>\n",
       "    <tr>\n",
       "      <td>Num of Groups (DF)</td>\n",
       "      <td>2746</td>\n",
       "      <td>4135</td>\n",
       "      <td>2743</td>\n",
       "    </tr>\n",
       "    <tr>\n",
       "      <td>Computational time (DF)</td>\n",
       "      <td>1745</td>\n",
       "      <td>887</td>\n",
       "      <td>573</td>\n",
       "    </tr>\n",
       "  </tbody>\n",
       "</table>\n",
       "</div>"
      ],
      "text/plain": [
       "                         web-Google_FULL  web-Google_DEMI  web-Google_QUART\n",
       "Num of Edges                     4322051          2039129           1014822\n",
       "Num of Groups (DF)                  2746             4135              2743\n",
       "Computational time (DF)             1745              887               573"
      ]
     },
     "execution_count": 217,
     "metadata": {},
     "output_type": "execute_result"
    }
   ],
   "source": [
    "res_DF_Google"
   ]
  },
  {
   "cell_type": "markdown",
   "metadata": {},
   "source": [
    "##### Combinaison"
   ]
  },
  {
   "cell_type": "code",
   "execution_count": 219,
   "metadata": {
    "ExecuteTime": {
     "end_time": "2020-03-03T16:53:26.091564Z",
     "start_time": "2020-03-03T16:53:26.069446Z"
    }
   },
   "outputs": [],
   "source": [
    "res_RDD_Google.loc['Num of Groups (DF)',:] = res_DF_Google.loc['Num of Groups (DF)']\n",
    "res_RDD_Google.loc['Computational time (DF)',:] = res_DF_Google.loc['Computational time (DF)']"
   ]
  },
  {
   "cell_type": "code",
   "execution_count": 220,
   "metadata": {
    "ExecuteTime": {
     "end_time": "2020-03-03T16:53:26.900976Z",
     "start_time": "2020-03-03T16:53:26.890480Z"
    }
   },
   "outputs": [
    {
     "data": {
      "text/html": [
       "<div>\n",
       "<style scoped>\n",
       "    .dataframe tbody tr th:only-of-type {\n",
       "        vertical-align: middle;\n",
       "    }\n",
       "\n",
       "    .dataframe tbody tr th {\n",
       "        vertical-align: top;\n",
       "    }\n",
       "\n",
       "    .dataframe thead th {\n",
       "        text-align: right;\n",
       "    }\n",
       "</style>\n",
       "<table border=\"1\" class=\"dataframe\">\n",
       "  <thead>\n",
       "    <tr style=\"text-align: right;\">\n",
       "      <th></th>\n",
       "      <th>web-Google_FULL</th>\n",
       "      <th>web-Google_DEMI</th>\n",
       "      <th>web-Google_QUART</th>\n",
       "    </tr>\n",
       "  </thead>\n",
       "  <tbody>\n",
       "    <tr>\n",
       "      <td>Num of Edges</td>\n",
       "      <td>4322051.0</td>\n",
       "      <td>2039129.0</td>\n",
       "      <td>1014822.0</td>\n",
       "    </tr>\n",
       "    <tr>\n",
       "      <td>Num of Groups (RDD)</td>\n",
       "      <td>2746.0</td>\n",
       "      <td>4135.0</td>\n",
       "      <td>2743.0</td>\n",
       "    </tr>\n",
       "    <tr>\n",
       "      <td>Computational time (RDD)</td>\n",
       "      <td>1255.0</td>\n",
       "      <td>615.0</td>\n",
       "      <td>387.0</td>\n",
       "    </tr>\n",
       "    <tr>\n",
       "      <td>Num of Groups (DF)</td>\n",
       "      <td>2746.0</td>\n",
       "      <td>4135.0</td>\n",
       "      <td>2743.0</td>\n",
       "    </tr>\n",
       "    <tr>\n",
       "      <td>Computational time (DF)</td>\n",
       "      <td>1745.0</td>\n",
       "      <td>887.0</td>\n",
       "      <td>573.0</td>\n",
       "    </tr>\n",
       "  </tbody>\n",
       "</table>\n",
       "</div>"
      ],
      "text/plain": [
       "                          web-Google_FULL  web-Google_DEMI  web-Google_QUART\n",
       "Num of Edges                    4322051.0        2039129.0         1014822.0\n",
       "Num of Groups (RDD)                2746.0           4135.0            2743.0\n",
       "Computational time (RDD)           1255.0            615.0             387.0\n",
       "Num of Groups (DF)                 2746.0           4135.0            2743.0\n",
       "Computational time (DF)            1745.0            887.0             573.0"
      ]
     },
     "execution_count": 220,
     "metadata": {},
     "output_type": "execute_result"
    }
   ],
   "source": [
    "print(res_RDD_Google)"
   ]
  },
  {
   "cell_type": "markdown",
   "metadata": {
    "ExecuteTime": {
     "end_time": "2020-03-01T19:24:57.464400Z",
     "start_time": "2020-03-01T19:24:51.246Z"
    }
   },
   "source": [
    "##### Plot of Speed VS Rating "
   ]
  },
  {
   "cell_type": "code",
   "execution_count": 203,
   "metadata": {
    "ExecuteTime": {
     "end_time": "2020-03-03T16:30:31.464937Z",
     "start_time": "2020-03-03T16:30:31.127332Z"
    }
   },
   "outputs": [
    {
     "data": {
      "image/png": "[encoded data removed]",
      "text/plain": [
       "<Figure size 1152x576 with 1 Axes>"
      ]
     },
     "metadata": {
      "needs_background": "light"
     },
     "output_type": "display_data"
    }
   ],
   "source": [
    "plt.figure(figsize=(16,8))\n",
    "plt.plot(res_RDD.loc['Num of Edges'], res_RDD.loc['Computational time (RDD)'], label = \"RDD\")\n",
    "plt.plot(res_DF.loc['Num of Edges'], res_DF.loc['Computational time (DF)'], label = \"DF\")\n",
    "plt.legend(loc='best')\n",
    "#plt.yticks(res_RDD.loc['Computational time (RDD)'])\n",
    "plt.xticks(res_RDD.loc['Num of Edges'])\n",
    "plt.ylabel('Computational Time')\n",
    "plt.xlabel('Size of Graph (By Number of Edges)')\n",
    "plt.title('Size of graph VS Computational Time')\n",
    "plt.show()"
   ]
  },
  {
   "cell_type": "code",
   "execution_count": 224,
   "metadata": {
    "ExecuteTime": {
     "end_time": "2020-03-03T16:57:12.990699Z",
     "start_time": "2020-03-03T16:57:12.804574Z"
    }
   },
   "outputs": [
    {
     "data": {
      "image/png": "[encoded data removed]",
      "text/plain": [
       "<Figure size 1152x576 with 1 Axes>"
      ]
     },
     "metadata": {
      "needs_background": "light"
     },
     "output_type": "display_data"
    }
   ],
   "source": [
    "plt.figure(figsize=(16,8))\n",
    "plt.plot(res_RDD_Google.loc['Num of Edges'], res_RDD_Google.loc['Computational time (RDD)'], label = \"RDD\")\n",
    "plt.plot(res_DF_Google.loc['Num of Edges'], res_DF_Google.loc['Computational time (DF)'], label = \"DF\")\n",
    "plt.legend(loc='best')\n",
    "#plt.yticks(res_RDD_Google.loc['Computational time (RDD)'])\n",
    "plt.xticks(res_RDD_Google.loc['Num of Edges'])\n",
    "plt.ylabel('Computational Time')\n",
    "plt.xlabel('Size of Graph (By Number of Edges)')\n",
    "plt.title('Size of graph VS Computational Time')\n",
    "plt.show()"
   ]
  },
  {
   "cell_type": "markdown",
   "metadata": {},
   "source": [
    "# 5. More graphs for our own understanding"
   ]
  },
  {
   "cell_type": "code",
   "execution_count": 72,
   "metadata": {
    "ExecuteTime": {
     "end_time": "2020-03-01T20:09:53.541550Z",
     "start_time": "2020-03-01T20:09:53.305197Z"
    }
   },
   "outputs": [
    {
     "data": {
      "image/png": "[encoded data removed]",
      "text/plain": [
       "<Figure size 720x720 with 2 Axes>"
      ]
     },
     "metadata": {
      "needs_background": "light"
     },
     "output_type": "display_data"
    }
   ],
   "source": [
    "# Other graphs to see the correlation between size of graph and run-time for our small files \n",
    "plt.close(\"all\")\n",
    "fig, ax = plt.subplots(2, figsize=(10, 10)) \n",
    "for i in range(len(res_RDD.index)):\n",
    "    ax[i].bar(res_RDD.columns.tolist(), res_RDD.iloc[i], color=plt.cm.Set2(i)) \n",
    "    ax[i].axhline(color=\"k\", linewidth=plt.rcParams[\"axes.linewidth\"]) \n",
    "    ax[i].set_ylabel(res_RDD.index[i])\n",
    "plt.show() "
   ]
  },
  {
   "cell_type": "code",
   "execution_count": 73,
   "metadata": {
    "ExecuteTime": {
     "end_time": "2020-03-01T20:13:15.923532Z",
     "start_time": "2020-03-01T20:13:15.622387Z"
    }
   },
   "outputs": [
    {
     "data": {
      "image/png": "[encoded data removed]",
      "text/plain": [
       "<Figure size 720x720 with 2 Axes>"
      ]
     },
     "metadata": {
      "needs_background": "light"
     },
     "output_type": "display_data"
    }
   ],
   "source": [
    "# Other graphs to see the correlation between size of graph and run-time for web-Google graphs \n",
    "plt.close(\"all\")\n",
    "fig, ax = plt.subplots(2, figsize=(10, 10)) \n",
    "for i in range(len(res_DF.index)):\n",
    "    ax[i].bar(res_DF.columns.tolist(), res_DF.iloc[i], color=plt.cm.Set2(i)) \n",
    "    ax[i].axhline(color=\"k\", linewidth=plt.rcParams[\"axes.linewidth\"]) \n",
    "    ax[i].set_ylabel(res_DF.index[i])\n",
    "plt.show() "
   ]
  }
 ],
 "metadata": {
  "kernelspec": {
   "display_name": "Python 3",
   "language": "python",
   "name": "python3"
  },
  "language_info": {
   "codemirror_mode": {
    "name": "ipython",
    "version": 3
   },
   "file_extension": ".py",
   "mimetype": "text/x-python",
   "name": "python",
   "nbconvert_exporter": "python",
   "pygments_lexer": "ipython3",
   "version": "3.7.2"
  },
  "toc": {
   "base_numbering": 1,
   "nav_menu": {},
   "number_sections": true,
   "sideBar": true,
   "skip_h1_title": false,
   "title_cell": "Table of Contents",
   "title_sidebar": "Contents",
   "toc_cell": false,
   "toc_position": {},
   "toc_section_display": true,
   "toc_window_display": false
  }
 },
 "nbformat": 4,
 "nbformat_minor": 2
}
